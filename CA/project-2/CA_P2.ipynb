{
 "cells": [
  {
   "cell_type": "code",
   "execution_count": 1,
   "id": "1ae58215",
   "metadata": {},
   "outputs": [],
   "source": [
    "import pandas as pd\n",
    "import numpy as np\n",
    "import matplotlib.pyplot as plt"
   ]
  },
  {
   "cell_type": "code",
   "execution_count": 2,
   "id": "1e153dc5",
   "metadata": {},
   "outputs": [
    {
     "data": {
      "text/plain": [
       "(75, 16)"
      ]
     },
     "execution_count": 2,
     "metadata": {},
     "output_type": "execute_result"
    }
   ],
   "source": [
    "df = pd.read_csv('./df_p2.csv')\n",
    "df.shape"
   ]
  },
  {
   "cell_type": "code",
   "execution_count": 3,
   "id": "17dbbb00",
   "metadata": {
    "scrolled": true
   },
   "outputs": [
    {
     "data": {
      "text/html": [
       "<div>\n",
       "<style scoped>\n",
       "    .dataframe tbody tr th:only-of-type {\n",
       "        vertical-align: middle;\n",
       "    }\n",
       "\n",
       "    .dataframe tbody tr th {\n",
       "        vertical-align: top;\n",
       "    }\n",
       "\n",
       "    .dataframe thead th {\n",
       "        text-align: right;\n",
       "    }\n",
       "</style>\n",
       "<table border=\"1\" class=\"dataframe\">\n",
       "  <thead>\n",
       "    <tr style=\"text-align: right;\">\n",
       "      <th></th>\n",
       "      <th>Test Bench Mark</th>\n",
       "      <th>Test Parameter</th>\n",
       "      <th>L1-D SIZE</th>\n",
       "      <th>L1-I SIZE</th>\n",
       "      <th>L2 SIZE</th>\n",
       "      <th>L1-D Associativity</th>\n",
       "      <th>L1-I Associativity</th>\n",
       "      <th>L2 Associativity</th>\n",
       "      <th>BLOCK SIZE</th>\n",
       "      <th>L1-D MISS RATE</th>\n",
       "      <th>L1-I MISS RATE</th>\n",
       "      <th>L2-MISS RATE</th>\n",
       "      <th>L1-D MISSES</th>\n",
       "      <th>L1-I MISSES</th>\n",
       "      <th>L2-MISSES</th>\n",
       "      <th>#INSTRUCTIONS</th>\n",
       "    </tr>\n",
       "  </thead>\n",
       "  <tbody>\n",
       "    <tr>\n",
       "      <th>0</th>\n",
       "      <td>401.bzip</td>\n",
       "      <td>L2 SIZE</td>\n",
       "      <td>1kB</td>\n",
       "      <td>1kB</td>\n",
       "      <td>1kB</td>\n",
       "      <td>1</td>\n",
       "      <td>1</td>\n",
       "      <td>1</td>\n",
       "      <td>16</td>\n",
       "      <td>0.076852</td>\n",
       "      <td>0.009128</td>\n",
       "      <td>0.717978</td>\n",
       "      <td>538843</td>\n",
       "      <td>117887</td>\n",
       "      <td>471518</td>\n",
       "      <td>10000001</td>\n",
       "    </tr>\n",
       "    <tr>\n",
       "      <th>1</th>\n",
       "      <td>401.bzip</td>\n",
       "      <td>L2 SIZE</td>\n",
       "      <td>1kB</td>\n",
       "      <td>1kB</td>\n",
       "      <td>2kB</td>\n",
       "      <td>1</td>\n",
       "      <td>1</td>\n",
       "      <td>1</td>\n",
       "      <td>16</td>\n",
       "      <td>0.076852</td>\n",
       "      <td>0.009128</td>\n",
       "      <td>0.629505</td>\n",
       "      <td>538843</td>\n",
       "      <td>117887</td>\n",
       "      <td>413415</td>\n",
       "      <td>10000001</td>\n",
       "    </tr>\n",
       "    <tr>\n",
       "      <th>2</th>\n",
       "      <td>401.bzip</td>\n",
       "      <td>L2 SIZE</td>\n",
       "      <td>1kB</td>\n",
       "      <td>1kB</td>\n",
       "      <td>4kB</td>\n",
       "      <td>1</td>\n",
       "      <td>1</td>\n",
       "      <td>1</td>\n",
       "      <td>16</td>\n",
       "      <td>0.076852</td>\n",
       "      <td>0.009128</td>\n",
       "      <td>0.594427</td>\n",
       "      <td>538843</td>\n",
       "      <td>117887</td>\n",
       "      <td>390378</td>\n",
       "      <td>10000001</td>\n",
       "    </tr>\n",
       "    <tr>\n",
       "      <th>3</th>\n",
       "      <td>401.bzip</td>\n",
       "      <td>L2 SIZE</td>\n",
       "      <td>1kB</td>\n",
       "      <td>1kB</td>\n",
       "      <td>8kB</td>\n",
       "      <td>1</td>\n",
       "      <td>1</td>\n",
       "      <td>1</td>\n",
       "      <td>16</td>\n",
       "      <td>0.076852</td>\n",
       "      <td>0.009128</td>\n",
       "      <td>0.579325</td>\n",
       "      <td>538843</td>\n",
       "      <td>117887</td>\n",
       "      <td>380460</td>\n",
       "      <td>10000001</td>\n",
       "    </tr>\n",
       "    <tr>\n",
       "      <th>4</th>\n",
       "      <td>401.bzip</td>\n",
       "      <td>L2 SIZE</td>\n",
       "      <td>1kB</td>\n",
       "      <td>1kB</td>\n",
       "      <td>16kB</td>\n",
       "      <td>1</td>\n",
       "      <td>1</td>\n",
       "      <td>1</td>\n",
       "      <td>16</td>\n",
       "      <td>0.076852</td>\n",
       "      <td>0.009128</td>\n",
       "      <td>0.565855</td>\n",
       "      <td>538843</td>\n",
       "      <td>117887</td>\n",
       "      <td>371614</td>\n",
       "      <td>10000001</td>\n",
       "    </tr>\n",
       "  </tbody>\n",
       "</table>\n",
       "</div>"
      ],
      "text/plain": [
       "  Test Bench Mark Test Parameter L1-D SIZE L1-I SIZE L2 SIZE  \\\n",
       "0        401.bzip        L2 SIZE       1kB       1kB     1kB   \n",
       "1        401.bzip        L2 SIZE       1kB       1kB     2kB   \n",
       "2        401.bzip        L2 SIZE       1kB       1kB     4kB   \n",
       "3        401.bzip        L2 SIZE       1kB       1kB     8kB   \n",
       "4        401.bzip        L2 SIZE       1kB       1kB    16kB   \n",
       "\n",
       "   L1-D Associativity  L1-I Associativity  L2 Associativity  BLOCK SIZE  \\\n",
       "0                   1                   1                 1          16   \n",
       "1                   1                   1                 1          16   \n",
       "2                   1                   1                 1          16   \n",
       "3                   1                   1                 1          16   \n",
       "4                   1                   1                 1          16   \n",
       "\n",
       "   L1-D MISS RATE  L1-I MISS RATE  L2-MISS RATE  L1-D MISSES  L1-I MISSES  \\\n",
       "0        0.076852        0.009128      0.717978       538843       117887   \n",
       "1        0.076852        0.009128      0.629505       538843       117887   \n",
       "2        0.076852        0.009128      0.594427       538843       117887   \n",
       "3        0.076852        0.009128      0.579325       538843       117887   \n",
       "4        0.076852        0.009128      0.565855       538843       117887   \n",
       "\n",
       "   L2-MISSES  #INSTRUCTIONS  \n",
       "0     471518       10000001  \n",
       "1     413415       10000001  \n",
       "2     390378       10000001  \n",
       "3     380460       10000001  \n",
       "4     371614       10000001  "
      ]
     },
     "execution_count": 3,
     "metadata": {},
     "output_type": "execute_result"
    }
   ],
   "source": [
    "df.head()"
   ]
  },
  {
   "cell_type": "code",
   "execution_count": 4,
   "id": "97eb5948",
   "metadata": {},
   "outputs": [
    {
     "data": {
      "text/plain": [
       "RangeIndex(start=0, stop=75, step=1)"
      ]
     },
     "execution_count": 4,
     "metadata": {},
     "output_type": "execute_result"
    }
   ],
   "source": [
    "df.index"
   ]
  },
  {
   "cell_type": "code",
   "execution_count": 5,
   "id": "93547316",
   "metadata": {},
   "outputs": [
    {
     "data": {
      "text/plain": [
       "Index(['Test Bench Mark', 'Test Parameter', 'L1-D SIZE', 'L1-I SIZE',\n",
       "       'L2 SIZE', 'L1-D Associativity', 'L1-I Associativity',\n",
       "       'L2 Associativity', 'BLOCK SIZE', 'L1-D MISS RATE', 'L1-I MISS RATE',\n",
       "       'L2-MISS RATE', 'L1-D MISSES', 'L1-I MISSES', 'L2-MISSES',\n",
       "       '#INSTRUCTIONS'],\n",
       "      dtype='object')"
      ]
     },
     "execution_count": 5,
     "metadata": {},
     "output_type": "execute_result"
    }
   ],
   "source": [
    "df.columns"
   ]
  },
  {
   "cell_type": "code",
   "execution_count": 6,
   "id": "ba439d62",
   "metadata": {
    "scrolled": true
   },
   "outputs": [
    {
     "data": {
      "text/html": [
       "<div>\n",
       "<style scoped>\n",
       "    .dataframe tbody tr th:only-of-type {\n",
       "        vertical-align: middle;\n",
       "    }\n",
       "\n",
       "    .dataframe tbody tr th {\n",
       "        vertical-align: top;\n",
       "    }\n",
       "\n",
       "    .dataframe thead th {\n",
       "        text-align: right;\n",
       "    }\n",
       "</style>\n",
       "<table border=\"1\" class=\"dataframe\">\n",
       "  <thead>\n",
       "    <tr style=\"text-align: right;\">\n",
       "      <th></th>\n",
       "      <th>Test Bench Mark</th>\n",
       "      <th>Test Parameter</th>\n",
       "      <th>L1-D SIZE</th>\n",
       "      <th>L1-I SIZE</th>\n",
       "      <th>L2 SIZE</th>\n",
       "      <th>L1-D Associativity</th>\n",
       "      <th>L1-I Associativity</th>\n",
       "      <th>L2 Associativity</th>\n",
       "      <th>BLOCK SIZE</th>\n",
       "      <th>L1-D MISS RATE</th>\n",
       "      <th>L1-I MISS RATE</th>\n",
       "      <th>L2-MISS RATE</th>\n",
       "      <th>L1-D MISSES</th>\n",
       "      <th>L1-I MISSES</th>\n",
       "      <th>L2-MISSES</th>\n",
       "      <th>#INSTRUCTIONS</th>\n",
       "    </tr>\n",
       "  </thead>\n",
       "  <tbody>\n",
       "    <tr>\n",
       "      <th>0</th>\n",
       "      <td>401.bzip</td>\n",
       "      <td>L2 SIZE</td>\n",
       "      <td>1kB</td>\n",
       "      <td>1</td>\n",
       "      <td>1</td>\n",
       "      <td>1</td>\n",
       "      <td>1</td>\n",
       "      <td>1</td>\n",
       "      <td>16</td>\n",
       "      <td>0.076852</td>\n",
       "      <td>0.009128</td>\n",
       "      <td>0.717978</td>\n",
       "      <td>538843</td>\n",
       "      <td>117887</td>\n",
       "      <td>471518</td>\n",
       "      <td>10000001</td>\n",
       "    </tr>\n",
       "    <tr>\n",
       "      <th>1</th>\n",
       "      <td>401.bzip</td>\n",
       "      <td>L2 SIZE</td>\n",
       "      <td>1kB</td>\n",
       "      <td>1</td>\n",
       "      <td>2</td>\n",
       "      <td>1</td>\n",
       "      <td>1</td>\n",
       "      <td>1</td>\n",
       "      <td>16</td>\n",
       "      <td>0.076852</td>\n",
       "      <td>0.009128</td>\n",
       "      <td>0.629505</td>\n",
       "      <td>538843</td>\n",
       "      <td>117887</td>\n",
       "      <td>413415</td>\n",
       "      <td>10000001</td>\n",
       "    </tr>\n",
       "    <tr>\n",
       "      <th>2</th>\n",
       "      <td>401.bzip</td>\n",
       "      <td>L2 SIZE</td>\n",
       "      <td>1kB</td>\n",
       "      <td>1</td>\n",
       "      <td>4</td>\n",
       "      <td>1</td>\n",
       "      <td>1</td>\n",
       "      <td>1</td>\n",
       "      <td>16</td>\n",
       "      <td>0.076852</td>\n",
       "      <td>0.009128</td>\n",
       "      <td>0.594427</td>\n",
       "      <td>538843</td>\n",
       "      <td>117887</td>\n",
       "      <td>390378</td>\n",
       "      <td>10000001</td>\n",
       "    </tr>\n",
       "    <tr>\n",
       "      <th>3</th>\n",
       "      <td>401.bzip</td>\n",
       "      <td>L2 SIZE</td>\n",
       "      <td>1kB</td>\n",
       "      <td>1</td>\n",
       "      <td>8</td>\n",
       "      <td>1</td>\n",
       "      <td>1</td>\n",
       "      <td>1</td>\n",
       "      <td>16</td>\n",
       "      <td>0.076852</td>\n",
       "      <td>0.009128</td>\n",
       "      <td>0.579325</td>\n",
       "      <td>538843</td>\n",
       "      <td>117887</td>\n",
       "      <td>380460</td>\n",
       "      <td>10000001</td>\n",
       "    </tr>\n",
       "    <tr>\n",
       "      <th>4</th>\n",
       "      <td>401.bzip</td>\n",
       "      <td>L2 SIZE</td>\n",
       "      <td>1kB</td>\n",
       "      <td>1</td>\n",
       "      <td>16</td>\n",
       "      <td>1</td>\n",
       "      <td>1</td>\n",
       "      <td>1</td>\n",
       "      <td>16</td>\n",
       "      <td>0.076852</td>\n",
       "      <td>0.009128</td>\n",
       "      <td>0.565855</td>\n",
       "      <td>538843</td>\n",
       "      <td>117887</td>\n",
       "      <td>371614</td>\n",
       "      <td>10000001</td>\n",
       "    </tr>\n",
       "  </tbody>\n",
       "</table>\n",
       "</div>"
      ],
      "text/plain": [
       "  Test Bench Mark Test Parameter L1-D SIZE  L1-I SIZE  L2 SIZE  \\\n",
       "0        401.bzip        L2 SIZE       1kB          1        1   \n",
       "1        401.bzip        L2 SIZE       1kB          1        2   \n",
       "2        401.bzip        L2 SIZE       1kB          1        4   \n",
       "3        401.bzip        L2 SIZE       1kB          1        8   \n",
       "4        401.bzip        L2 SIZE       1kB          1       16   \n",
       "\n",
       "   L1-D Associativity  L1-I Associativity  L2 Associativity  BLOCK SIZE  \\\n",
       "0                   1                   1                 1          16   \n",
       "1                   1                   1                 1          16   \n",
       "2                   1                   1                 1          16   \n",
       "3                   1                   1                 1          16   \n",
       "4                   1                   1                 1          16   \n",
       "\n",
       "   L1-D MISS RATE  L1-I MISS RATE  L2-MISS RATE  L1-D MISSES  L1-I MISSES  \\\n",
       "0        0.076852        0.009128      0.717978       538843       117887   \n",
       "1        0.076852        0.009128      0.629505       538843       117887   \n",
       "2        0.076852        0.009128      0.594427       538843       117887   \n",
       "3        0.076852        0.009128      0.579325       538843       117887   \n",
       "4        0.076852        0.009128      0.565855       538843       117887   \n",
       "\n",
       "   L2-MISSES  #INSTRUCTIONS  \n",
       "0     471518       10000001  \n",
       "1     413415       10000001  \n",
       "2     390378       10000001  \n",
       "3     380460       10000001  \n",
       "4     371614       10000001  "
      ]
     },
     "execution_count": 6,
     "metadata": {},
     "output_type": "execute_result"
    }
   ],
   "source": [
    "df['L1-I SIZE'] = df['L1-I SIZE'].str[:-2].astype(int)\n",
    "df['L2 SIZE'] = df['L2 SIZE'].str[:-2].astype(int)\n",
    "df['Test Parameter'] = df['Test Parameter'].replace('L2  Associativity', 'L2 Associativity')\n",
    "df.head()"
   ]
  },
  {
   "cell_type": "code",
   "execution_count": 7,
   "id": "753f3ffb",
   "metadata": {},
   "outputs": [],
   "source": [
    "df['L1-D HIT-RATE'] = 1 - df['L1-D MISS RATE']\n",
    "df['L1-I HIT-RATE'] = 1 - df['L1-I MISS RATE']\n",
    "df['L2 HIT-RATE'] = 1 - df['L2-MISS RATE']"
   ]
  },
  {
   "cell_type": "code",
   "execution_count": 8,
   "id": "ba70edbe",
   "metadata": {},
   "outputs": [],
   "source": [
    "df['CPI'] = 1 + ((( (df['L1-I MISSES'] + df['L1-D MISSES']) * 6) + (df['L2-MISSES'] * 50))/ df['#INSTRUCTIONS'])"
   ]
  },
  {
   "cell_type": "code",
   "execution_count": 9,
   "id": "81100620",
   "metadata": {},
   "outputs": [
    {
     "data": {
      "text/html": [
       "<div>\n",
       "<style scoped>\n",
       "    .dataframe tbody tr th:only-of-type {\n",
       "        vertical-align: middle;\n",
       "    }\n",
       "\n",
       "    .dataframe tbody tr th {\n",
       "        vertical-align: top;\n",
       "    }\n",
       "\n",
       "    .dataframe thead th {\n",
       "        text-align: right;\n",
       "    }\n",
       "</style>\n",
       "<table border=\"1\" class=\"dataframe\">\n",
       "  <thead>\n",
       "    <tr style=\"text-align: right;\">\n",
       "      <th></th>\n",
       "      <th>Test Bench Mark</th>\n",
       "      <th>Test Parameter</th>\n",
       "      <th>L1-D SIZE</th>\n",
       "      <th>L1-I SIZE</th>\n",
       "      <th>L2 SIZE</th>\n",
       "      <th>L1-D Associativity</th>\n",
       "      <th>L1-I Associativity</th>\n",
       "      <th>L2 Associativity</th>\n",
       "      <th>BLOCK SIZE</th>\n",
       "      <th>L1-D MISS RATE</th>\n",
       "      <th>L1-I MISS RATE</th>\n",
       "      <th>L2-MISS RATE</th>\n",
       "      <th>L1-D MISSES</th>\n",
       "      <th>L1-I MISSES</th>\n",
       "      <th>L2-MISSES</th>\n",
       "      <th>#INSTRUCTIONS</th>\n",
       "      <th>L1-D HIT-RATE</th>\n",
       "      <th>L1-I HIT-RATE</th>\n",
       "      <th>L2 HIT-RATE</th>\n",
       "      <th>CPI</th>\n",
       "    </tr>\n",
       "  </thead>\n",
       "  <tbody>\n",
       "    <tr>\n",
       "      <th>0</th>\n",
       "      <td>401.bzip</td>\n",
       "      <td>L2 SIZE</td>\n",
       "      <td>1kB</td>\n",
       "      <td>1</td>\n",
       "      <td>1</td>\n",
       "      <td>1</td>\n",
       "      <td>1</td>\n",
       "      <td>1</td>\n",
       "      <td>16</td>\n",
       "      <td>0.076852</td>\n",
       "      <td>0.009128</td>\n",
       "      <td>0.717978</td>\n",
       "      <td>538843</td>\n",
       "      <td>117887</td>\n",
       "      <td>471518</td>\n",
       "      <td>10000001</td>\n",
       "      <td>0.923148</td>\n",
       "      <td>0.990872</td>\n",
       "      <td>0.282022</td>\n",
       "      <td>3.751628</td>\n",
       "    </tr>\n",
       "    <tr>\n",
       "      <th>1</th>\n",
       "      <td>401.bzip</td>\n",
       "      <td>L2 SIZE</td>\n",
       "      <td>1kB</td>\n",
       "      <td>1</td>\n",
       "      <td>2</td>\n",
       "      <td>1</td>\n",
       "      <td>1</td>\n",
       "      <td>1</td>\n",
       "      <td>16</td>\n",
       "      <td>0.076852</td>\n",
       "      <td>0.009128</td>\n",
       "      <td>0.629505</td>\n",
       "      <td>538843</td>\n",
       "      <td>117887</td>\n",
       "      <td>413415</td>\n",
       "      <td>10000001</td>\n",
       "      <td>0.923148</td>\n",
       "      <td>0.990872</td>\n",
       "      <td>0.370495</td>\n",
       "      <td>3.461113</td>\n",
       "    </tr>\n",
       "    <tr>\n",
       "      <th>2</th>\n",
       "      <td>401.bzip</td>\n",
       "      <td>L2 SIZE</td>\n",
       "      <td>1kB</td>\n",
       "      <td>1</td>\n",
       "      <td>4</td>\n",
       "      <td>1</td>\n",
       "      <td>1</td>\n",
       "      <td>1</td>\n",
       "      <td>16</td>\n",
       "      <td>0.076852</td>\n",
       "      <td>0.009128</td>\n",
       "      <td>0.594427</td>\n",
       "      <td>538843</td>\n",
       "      <td>117887</td>\n",
       "      <td>390378</td>\n",
       "      <td>10000001</td>\n",
       "      <td>0.923148</td>\n",
       "      <td>0.990872</td>\n",
       "      <td>0.405573</td>\n",
       "      <td>3.345928</td>\n",
       "    </tr>\n",
       "    <tr>\n",
       "      <th>3</th>\n",
       "      <td>401.bzip</td>\n",
       "      <td>L2 SIZE</td>\n",
       "      <td>1kB</td>\n",
       "      <td>1</td>\n",
       "      <td>8</td>\n",
       "      <td>1</td>\n",
       "      <td>1</td>\n",
       "      <td>1</td>\n",
       "      <td>16</td>\n",
       "      <td>0.076852</td>\n",
       "      <td>0.009128</td>\n",
       "      <td>0.579325</td>\n",
       "      <td>538843</td>\n",
       "      <td>117887</td>\n",
       "      <td>380460</td>\n",
       "      <td>10000001</td>\n",
       "      <td>0.923148</td>\n",
       "      <td>0.990872</td>\n",
       "      <td>0.420675</td>\n",
       "      <td>3.296338</td>\n",
       "    </tr>\n",
       "    <tr>\n",
       "      <th>4</th>\n",
       "      <td>401.bzip</td>\n",
       "      <td>L2 SIZE</td>\n",
       "      <td>1kB</td>\n",
       "      <td>1</td>\n",
       "      <td>16</td>\n",
       "      <td>1</td>\n",
       "      <td>1</td>\n",
       "      <td>1</td>\n",
       "      <td>16</td>\n",
       "      <td>0.076852</td>\n",
       "      <td>0.009128</td>\n",
       "      <td>0.565855</td>\n",
       "      <td>538843</td>\n",
       "      <td>117887</td>\n",
       "      <td>371614</td>\n",
       "      <td>10000001</td>\n",
       "      <td>0.923148</td>\n",
       "      <td>0.990872</td>\n",
       "      <td>0.434145</td>\n",
       "      <td>3.252108</td>\n",
       "    </tr>\n",
       "    <tr>\n",
       "      <th>...</th>\n",
       "      <td>...</td>\n",
       "      <td>...</td>\n",
       "      <td>...</td>\n",
       "      <td>...</td>\n",
       "      <td>...</td>\n",
       "      <td>...</td>\n",
       "      <td>...</td>\n",
       "      <td>...</td>\n",
       "      <td>...</td>\n",
       "      <td>...</td>\n",
       "      <td>...</td>\n",
       "      <td>...</td>\n",
       "      <td>...</td>\n",
       "      <td>...</td>\n",
       "      <td>...</td>\n",
       "      <td>...</td>\n",
       "      <td>...</td>\n",
       "      <td>...</td>\n",
       "      <td>...</td>\n",
       "      <td>...</td>\n",
       "    </tr>\n",
       "    <tr>\n",
       "      <th>70</th>\n",
       "      <td>458.sjeng</td>\n",
       "      <td>BLOCK SIZE</td>\n",
       "      <td>1kB</td>\n",
       "      <td>1</td>\n",
       "      <td>1</td>\n",
       "      <td>1</td>\n",
       "      <td>1</td>\n",
       "      <td>1</td>\n",
       "      <td>32</td>\n",
       "      <td>0.218447</td>\n",
       "      <td>0.000070</td>\n",
       "      <td>0.971022</td>\n",
       "      <td>1693133</td>\n",
       "      <td>956</td>\n",
       "      <td>1644998</td>\n",
       "      <td>10000000</td>\n",
       "      <td>0.781553</td>\n",
       "      <td>0.999930</td>\n",
       "      <td>0.028978</td>\n",
       "      <td>10.241443</td>\n",
       "    </tr>\n",
       "    <tr>\n",
       "      <th>71</th>\n",
       "      <td>458.sjeng</td>\n",
       "      <td>BLOCK SIZE</td>\n",
       "      <td>1kB</td>\n",
       "      <td>1</td>\n",
       "      <td>1</td>\n",
       "      <td>1</td>\n",
       "      <td>1</td>\n",
       "      <td>1</td>\n",
       "      <td>64</td>\n",
       "      <td>0.130736</td>\n",
       "      <td>0.000047</td>\n",
       "      <td>0.916804</td>\n",
       "      <td>1013300</td>\n",
       "      <td>644</td>\n",
       "      <td>929588</td>\n",
       "      <td>10000000</td>\n",
       "      <td>0.869264</td>\n",
       "      <td>0.999953</td>\n",
       "      <td>0.083196</td>\n",
       "      <td>6.256306</td>\n",
       "    </tr>\n",
       "    <tr>\n",
       "      <th>72</th>\n",
       "      <td>458.sjeng</td>\n",
       "      <td>BLOCK SIZE</td>\n",
       "      <td>1kB</td>\n",
       "      <td>1</td>\n",
       "      <td>1</td>\n",
       "      <td>1</td>\n",
       "      <td>1</td>\n",
       "      <td>1</td>\n",
       "      <td>128</td>\n",
       "      <td>0.097583</td>\n",
       "      <td>0.000035</td>\n",
       "      <td>0.848600</td>\n",
       "      <td>756339</td>\n",
       "      <td>484</td>\n",
       "      <td>642240</td>\n",
       "      <td>10000000</td>\n",
       "      <td>0.902417</td>\n",
       "      <td>0.999965</td>\n",
       "      <td>0.151400</td>\n",
       "      <td>4.665294</td>\n",
       "    </tr>\n",
       "    <tr>\n",
       "      <th>73</th>\n",
       "      <td>458.sjeng</td>\n",
       "      <td>BLOCK SIZE</td>\n",
       "      <td>1kB</td>\n",
       "      <td>1</td>\n",
       "      <td>1</td>\n",
       "      <td>1</td>\n",
       "      <td>1</td>\n",
       "      <td>1</td>\n",
       "      <td>256</td>\n",
       "      <td>0.098933</td>\n",
       "      <td>0.000027</td>\n",
       "      <td>0.799070</td>\n",
       "      <td>766809</td>\n",
       "      <td>372</td>\n",
       "      <td>613031</td>\n",
       "      <td>10000000</td>\n",
       "      <td>0.901067</td>\n",
       "      <td>0.999973</td>\n",
       "      <td>0.200930</td>\n",
       "      <td>4.525464</td>\n",
       "    </tr>\n",
       "    <tr>\n",
       "      <th>74</th>\n",
       "      <td>458.sjeng</td>\n",
       "      <td>BLOCK SIZE</td>\n",
       "      <td>1kB</td>\n",
       "      <td>1</td>\n",
       "      <td>1</td>\n",
       "      <td>1</td>\n",
       "      <td>1</td>\n",
       "      <td>1</td>\n",
       "      <td>512</td>\n",
       "      <td>0.122728</td>\n",
       "      <td>0.000026</td>\n",
       "      <td>0.788696</td>\n",
       "      <td>951237</td>\n",
       "      <td>355</td>\n",
       "      <td>750517</td>\n",
       "      <td>10000000</td>\n",
       "      <td>0.877272</td>\n",
       "      <td>0.999974</td>\n",
       "      <td>0.211304</td>\n",
       "      <td>5.323540</td>\n",
       "    </tr>\n",
       "  </tbody>\n",
       "</table>\n",
       "<p>75 rows × 20 columns</p>\n",
       "</div>"
      ],
      "text/plain": [
       "   Test Bench Mark Test Parameter L1-D SIZE  L1-I SIZE  L2 SIZE  \\\n",
       "0         401.bzip        L2 SIZE       1kB          1        1   \n",
       "1         401.bzip        L2 SIZE       1kB          1        2   \n",
       "2         401.bzip        L2 SIZE       1kB          1        4   \n",
       "3         401.bzip        L2 SIZE       1kB          1        8   \n",
       "4         401.bzip        L2 SIZE       1kB          1       16   \n",
       "..             ...            ...       ...        ...      ...   \n",
       "70       458.sjeng     BLOCK SIZE       1kB          1        1   \n",
       "71       458.sjeng     BLOCK SIZE       1kB          1        1   \n",
       "72       458.sjeng     BLOCK SIZE       1kB          1        1   \n",
       "73       458.sjeng     BLOCK SIZE       1kB          1        1   \n",
       "74       458.sjeng     BLOCK SIZE       1kB          1        1   \n",
       "\n",
       "    L1-D Associativity  L1-I Associativity  L2 Associativity  BLOCK SIZE  \\\n",
       "0                    1                   1                 1          16   \n",
       "1                    1                   1                 1          16   \n",
       "2                    1                   1                 1          16   \n",
       "3                    1                   1                 1          16   \n",
       "4                    1                   1                 1          16   \n",
       "..                 ...                 ...               ...         ...   \n",
       "70                   1                   1                 1          32   \n",
       "71                   1                   1                 1          64   \n",
       "72                   1                   1                 1         128   \n",
       "73                   1                   1                 1         256   \n",
       "74                   1                   1                 1         512   \n",
       "\n",
       "    L1-D MISS RATE  L1-I MISS RATE  L2-MISS RATE  L1-D MISSES  L1-I MISSES  \\\n",
       "0         0.076852        0.009128      0.717978       538843       117887   \n",
       "1         0.076852        0.009128      0.629505       538843       117887   \n",
       "2         0.076852        0.009128      0.594427       538843       117887   \n",
       "3         0.076852        0.009128      0.579325       538843       117887   \n",
       "4         0.076852        0.009128      0.565855       538843       117887   \n",
       "..             ...             ...           ...          ...          ...   \n",
       "70        0.218447        0.000070      0.971022      1693133          956   \n",
       "71        0.130736        0.000047      0.916804      1013300          644   \n",
       "72        0.097583        0.000035      0.848600       756339          484   \n",
       "73        0.098933        0.000027      0.799070       766809          372   \n",
       "74        0.122728        0.000026      0.788696       951237          355   \n",
       "\n",
       "    L2-MISSES  #INSTRUCTIONS  L1-D HIT-RATE  L1-I HIT-RATE  L2 HIT-RATE  \\\n",
       "0      471518       10000001       0.923148       0.990872     0.282022   \n",
       "1      413415       10000001       0.923148       0.990872     0.370495   \n",
       "2      390378       10000001       0.923148       0.990872     0.405573   \n",
       "3      380460       10000001       0.923148       0.990872     0.420675   \n",
       "4      371614       10000001       0.923148       0.990872     0.434145   \n",
       "..        ...            ...            ...            ...          ...   \n",
       "70    1644998       10000000       0.781553       0.999930     0.028978   \n",
       "71     929588       10000000       0.869264       0.999953     0.083196   \n",
       "72     642240       10000000       0.902417       0.999965     0.151400   \n",
       "73     613031       10000000       0.901067       0.999973     0.200930   \n",
       "74     750517       10000000       0.877272       0.999974     0.211304   \n",
       "\n",
       "          CPI  \n",
       "0    3.751628  \n",
       "1    3.461113  \n",
       "2    3.345928  \n",
       "3    3.296338  \n",
       "4    3.252108  \n",
       "..        ...  \n",
       "70  10.241443  \n",
       "71   6.256306  \n",
       "72   4.665294  \n",
       "73   4.525464  \n",
       "74   5.323540  \n",
       "\n",
       "[75 rows x 20 columns]"
      ]
     },
     "execution_count": 9,
     "metadata": {},
     "output_type": "execute_result"
    }
   ],
   "source": [
    "df"
   ]
  },
  {
   "cell_type": "code",
   "execution_count": 10,
   "id": "3f946fa4",
   "metadata": {},
   "outputs": [
    {
     "data": {
      "text/plain": [
       "array([10000001, 10000000])"
      ]
     },
     "execution_count": 10,
     "metadata": {},
     "output_type": "execute_result"
    }
   ],
   "source": [
    "df['#INSTRUCTIONS'].unique()"
   ]
  },
  {
   "cell_type": "code",
   "execution_count": 11,
   "id": "75548725",
   "metadata": {},
   "outputs": [],
   "source": [
    "df.to_csv('./CA_P2_df.csv')"
   ]
  },
  {
   "cell_type": "code",
   "execution_count": null,
   "id": "65bc58b8",
   "metadata": {},
   "outputs": [],
   "source": []
  },
  {
   "cell_type": "code",
   "execution_count": null,
   "id": "eeffbd39",
   "metadata": {},
   "outputs": [],
   "source": []
  },
  {
   "cell_type": "markdown",
   "id": "ca744e2a",
   "metadata": {},
   "source": [
    "# L1-I SIZE"
   ]
  },
  {
   "cell_type": "markdown",
   "id": "1630a47f",
   "metadata": {},
   "source": [
    "## 'L1-I SIZE', L1-I HIT-RATE"
   ]
  },
  {
   "cell_type": "code",
   "execution_count": null,
   "id": "e6230d14",
   "metadata": {},
   "outputs": [],
   "source": [
    "bench_mark = '401.bzip'\n",
    "test_param = 'L1-I SIZE'\n",
    "ouput1 = 'L1-I HIT-RATE'\n",
    "cols = ['Test Parameter',test_param,ouput1]\n",
    "\n",
    "res = df[(df['Test Parameter'] == test_param) & (df['Test Bench Mark'] == bench_mark)][cols]\n",
    "res = res.reset_index(drop=True)\n",
    "res"
   ]
  },
  {
   "cell_type": "code",
   "execution_count": null,
   "id": "b915eb8d",
   "metadata": {},
   "outputs": [],
   "source": [
    "plt.figure(figsize=(2,1))\n",
    "res.plot(x = test_param,y = ouput1)\n",
    "plt.xlabel(test_param)\n",
    "plt.ylabel(ouput1)\n",
    "plt.xticks(res[test_param])\n",
    "plt.title(bench_mark)\n",
    "plt.show()"
   ]
  },
  {
   "cell_type": "code",
   "execution_count": null,
   "id": "28092a67",
   "metadata": {},
   "outputs": [],
   "source": [
    "bench_mark = '429.mcf'\n",
    "test_param = 'L1-I SIZE'\n",
    "ouput1 = 'L1-I HIT-RATE'\n",
    "cols = ['Test Parameter',test_param,ouput1]\n",
    "\n",
    "res = df[(df['Test Parameter'] == test_param) & (df['Test Bench Mark'] == bench_mark)][cols]\n",
    "res = res.reset_index(drop=True)\n",
    "res"
   ]
  },
  {
   "cell_type": "code",
   "execution_count": null,
   "id": "bf501643",
   "metadata": {},
   "outputs": [],
   "source": [
    "plt.figure(figsize=(2,1))\n",
    "res.plot(x = test_param,y = ouput1)\n",
    "plt.xlabel(test_param)\n",
    "plt.ylabel(ouput1)\n",
    "plt.xticks(res[test_param])\n",
    "plt.title(bench_mark)\n",
    "plt.show()"
   ]
  },
  {
   "cell_type": "code",
   "execution_count": null,
   "id": "eb2f52a2",
   "metadata": {},
   "outputs": [],
   "source": [
    "bench_mark = '458.sjeng'\n",
    "test_param ='L1-I SIZE'\n",
    "ouput1 = 'L1-I HIT-RATE'\n",
    "cols = ['Test Parameter',test_param,ouput1]\n",
    "\n",
    "res = df[(df['Test Parameter'] == test_param) & (df['Test Bench Mark'] == bench_mark)][cols]\n",
    "res = res.reset_index(drop=True)\n",
    "res"
   ]
  },
  {
   "cell_type": "code",
   "execution_count": null,
   "id": "17de72ac",
   "metadata": {},
   "outputs": [],
   "source": [
    "plt.figure(figsize=(2,1))\n",
    "res.plot(x = test_param,y = ouput1)\n",
    "plt.xlabel(test_param)\n",
    "plt.ylabel(ouput1)\n",
    "plt.xticks(res[test_param])\n",
    "plt.title(bench_mark)\n",
    "plt.show()"
   ]
  },
  {
   "cell_type": "code",
   "execution_count": null,
   "id": "b877fa7e",
   "metadata": {},
   "outputs": [],
   "source": [
    "test_param ='L1-I SIZE'\n",
    "ouput1 = 'L1-I HIT-RATE'\n",
    "cols = ['Test Bench Mark',test_param,ouput1]\n",
    "res = df[df['Test Parameter'] == test_param][cols]\n",
    "res = res.reset_index(drop=True)\n",
    "res"
   ]
  },
  {
   "cell_type": "code",
   "execution_count": null,
   "id": "b391efa2",
   "metadata": {},
   "outputs": [],
   "source": [
    "benchmarks = df['Test Bench Mark'].unique()\n",
    "fig, ax = plt.subplots(figsize=(8, 6))\n",
    "for benchmark in benchmarks:\n",
    "    data = res[res['Test Bench Mark'] == benchmark]\n",
    "    ax.plot(data[test_param], data[ouput1], label=benchmark)\n",
    "ax.set_xlabel(test_param)\n",
    "ax.set_ylabel(ouput1)\n",
    "ax.set_xticks(res[test_param])\n",
    "ax.set_title('{} vs {}'.format(ouput1,test_param))\n",
    "ax.legend()\n",
    "plt.show()"
   ]
  },
  {
   "cell_type": "code",
   "execution_count": null,
   "id": "d9e6bcc4",
   "metadata": {},
   "outputs": [],
   "source": [
    "bench_mark = '401.bzip'\n",
    "test_param = 'L1-I SIZE'\n",
    "ouput1 = 'CPI'\n",
    "cols = ['Test Parameter',test_param,ouput1]\n",
    "\n",
    "res = df[(df['Test Parameter'] == test_param) & (df['Test Bench Mark'] == bench_mark)][cols]\n",
    "res = res.reset_index(drop=True)\n",
    "res"
   ]
  },
  {
   "cell_type": "code",
   "execution_count": null,
   "id": "7db55702",
   "metadata": {},
   "outputs": [],
   "source": [
    "plt.figure(figsize=(2,1))\n",
    "res.plot(x = test_param,y = ouput1)\n",
    "plt.xlabel(test_param)\n",
    "plt.ylabel(ouput1)\n",
    "plt.xticks(res[test_param])\n",
    "plt.title(bench_mark)\n",
    "plt.show()"
   ]
  },
  {
   "cell_type": "code",
   "execution_count": null,
   "id": "d1748d7f",
   "metadata": {},
   "outputs": [],
   "source": [
    "bench_mark = '429.mcf'\n",
    "test_param = 'L1-I SIZE'\n",
    "ouput1 = 'CPI'\n",
    "cols = ['Test Parameter',test_param,ouput1]\n",
    "\n",
    "res = df[(df['Test Parameter'] == test_param) & (df['Test Bench Mark'] == bench_mark)][cols]\n",
    "res = res.reset_index(drop=True)\n",
    "res"
   ]
  },
  {
   "cell_type": "code",
   "execution_count": null,
   "id": "1d164148",
   "metadata": {},
   "outputs": [],
   "source": [
    "plt.figure(figsize=(2,1))\n",
    "res.plot(x = test_param,y = ouput1)\n",
    "plt.xlabel(test_param)\n",
    "plt.ylabel(ouput1)\n",
    "plt.xticks(res[test_param])\n",
    "plt.title(bench_mark)\n",
    "plt.show()"
   ]
  },
  {
   "cell_type": "code",
   "execution_count": null,
   "id": "abf8930b",
   "metadata": {},
   "outputs": [],
   "source": [
    "bench_mark = '458.sjeng'\n",
    "test_param = 'L1-I SIZE'\n",
    "ouput1 = 'CPI'\n",
    "cols = ['Test Parameter',test_param,ouput1]\n",
    "\n",
    "res = df[(df['Test Parameter'] == test_param) & (df['Test Bench Mark'] == bench_mark)][cols]\n",
    "res = res.reset_index(drop=True)\n",
    "res"
   ]
  },
  {
   "cell_type": "code",
   "execution_count": null,
   "id": "d06db387",
   "metadata": {
    "scrolled": false
   },
   "outputs": [],
   "source": [
    "plt.figure(figsize=(2,1))\n",
    "res.plot(x = test_param,y = ouput1)\n",
    "plt.xlabel(test_param)\n",
    "plt.ylabel(ouput1)\n",
    "plt.xticks(res[test_param])\n",
    "\n",
    "plt.title(bench_mark)\n",
    "plt.show()"
   ]
  },
  {
   "cell_type": "code",
   "execution_count": null,
   "id": "633bb5e4",
   "metadata": {},
   "outputs": [],
   "source": [
    "test_param ='L1-I SIZE'\n",
    "cols = ['Test Bench Mark',test_param,ouput1]\n",
    "res = df[df['Test Parameter'] == test_param][cols]\n",
    "res = res.reset_index(drop=True)\n",
    "res"
   ]
  },
  {
   "cell_type": "code",
   "execution_count": null,
   "id": "62db7960",
   "metadata": {},
   "outputs": [],
   "source": [
    "benchmarks = df['Test Bench Mark'].unique()\n",
    "fig, ax = plt.subplots(figsize=(8, 6))\n",
    "for benchmark in benchmarks:\n",
    "    data = res[res['Test Bench Mark'] == benchmark]\n",
    "    ax.plot(data[test_param], data[ouput1], label=benchmark)\n",
    "ax.set_xlabel(test_param)\n",
    "ax.set_ylabel(ouput1)\n",
    "ax.set_xticks(res[test_param])\n",
    "ax.set_title('{} vs {}'.format(ouput1,test_param))\n",
    "ax.legend()\n",
    "plt.show()"
   ]
  },
  {
   "cell_type": "code",
   "execution_count": null,
   "id": "e5f9ab66",
   "metadata": {},
   "outputs": [],
   "source": []
  },
  {
   "cell_type": "code",
   "execution_count": null,
   "id": "8a10dc54",
   "metadata": {},
   "outputs": [],
   "source": []
  },
  {
   "cell_type": "code",
   "execution_count": null,
   "id": "7543976a",
   "metadata": {},
   "outputs": [],
   "source": []
  },
  {
   "cell_type": "code",
   "execution_count": null,
   "id": "996648c3",
   "metadata": {},
   "outputs": [],
   "source": []
  },
  {
   "cell_type": "code",
   "execution_count": null,
   "id": "3601532c",
   "metadata": {},
   "outputs": [],
   "source": []
  },
  {
   "cell_type": "code",
   "execution_count": null,
   "id": "3c5bd12f",
   "metadata": {},
   "outputs": [],
   "source": []
  },
  {
   "cell_type": "code",
   "execution_count": null,
   "id": "1a7a6be5",
   "metadata": {},
   "outputs": [],
   "source": []
  },
  {
   "cell_type": "code",
   "execution_count": null,
   "id": "206187c9",
   "metadata": {},
   "outputs": [],
   "source": []
  },
  {
   "cell_type": "code",
   "execution_count": null,
   "id": "dd67fec1",
   "metadata": {},
   "outputs": [],
   "source": []
  },
  {
   "cell_type": "code",
   "execution_count": null,
   "id": "3b1b44c0",
   "metadata": {},
   "outputs": [],
   "source": []
  },
  {
   "cell_type": "code",
   "execution_count": null,
   "id": "4f2cf578",
   "metadata": {},
   "outputs": [],
   "source": []
  },
  {
   "cell_type": "code",
   "execution_count": null,
   "id": "1f1a51e6",
   "metadata": {},
   "outputs": [],
   "source": []
  },
  {
   "cell_type": "code",
   "execution_count": null,
   "id": "427e2844",
   "metadata": {},
   "outputs": [],
   "source": []
  },
  {
   "cell_type": "code",
   "execution_count": null,
   "id": "afceb09f",
   "metadata": {},
   "outputs": [],
   "source": []
  },
  {
   "cell_type": "code",
   "execution_count": null,
   "id": "07ac533c",
   "metadata": {},
   "outputs": [],
   "source": []
  },
  {
   "cell_type": "code",
   "execution_count": null,
   "id": "7c892d99",
   "metadata": {},
   "outputs": [],
   "source": []
  },
  {
   "cell_type": "markdown",
   "id": "f1ad6ed8",
   "metadata": {},
   "source": [
    "# 'L1-I Associativity'"
   ]
  },
  {
   "cell_type": "code",
   "execution_count": null,
   "id": "7f05ae49",
   "metadata": {},
   "outputs": [],
   "source": [
    "bench_mark = '401.bzip'\n",
    "test_param = 'L1-I Associativity'\n",
    "ouput1 = 'L1-I HIT-RATE'\n",
    "cols = ['Test Parameter',test_param,ouput1]\n",
    "\n",
    "res = df[(df['Test Parameter'] == test_param) & (df['Test Bench Mark'] == bench_mark)][cols]\n",
    "res = res.reset_index(drop=True)\n",
    "res"
   ]
  },
  {
   "cell_type": "code",
   "execution_count": null,
   "id": "04aa00c1",
   "metadata": {},
   "outputs": [],
   "source": [
    "plt.figure(figsize=(2,1))\n",
    "res.plot(x = test_param,y = ouput1)\n",
    "plt.xlabel(test_param)\n",
    "plt.xticks(res[test_param])\n",
    "plt.ylabel(ouput1)\n",
    "plt.title(bench_mark)\n",
    "plt.show()"
   ]
  },
  {
   "cell_type": "code",
   "execution_count": null,
   "id": "d5e9bdfe",
   "metadata": {},
   "outputs": [],
   "source": [
    "bench_mark = '429.mcf'\n",
    "test_param = 'L1-I Associativity'\n",
    "ouput1 = 'L1-I HIT-RATE'\n",
    "cols = ['Test Parameter',test_param,ouput1]\n",
    "\n",
    "res = df[(df['Test Parameter'] == test_param) & (df['Test Bench Mark'] == bench_mark)][cols]\n",
    "res = res.reset_index(drop=True)\n",
    "res"
   ]
  },
  {
   "cell_type": "code",
   "execution_count": null,
   "id": "8688ba6a",
   "metadata": {},
   "outputs": [],
   "source": [
    "plt.figure(figsize=(2,1))\n",
    "res.plot(x = test_param,y = ouput1)\n",
    "plt.xlabel(test_param)\n",
    "plt.xticks(res[test_param])\n",
    "plt.ylabel(ouput1)\n",
    "plt.title(bench_mark)\n",
    "plt.show()"
   ]
  },
  {
   "cell_type": "code",
   "execution_count": null,
   "id": "adbc455d",
   "metadata": {},
   "outputs": [],
   "source": [
    "bench_mark = '458.sjeng'\n",
    "test_param = 'L1-I Associativity'\n",
    "ouput1 = 'L1-I HIT-RATE'\n",
    "cols = ['Test Parameter',test_param,ouput1]\n",
    "\n",
    "res = df[(df['Test Parameter'] == test_param) & (df['Test Bench Mark'] == bench_mark)][cols]\n",
    "res = res.reset_index(drop=True)\n",
    "res"
   ]
  },
  {
   "cell_type": "code",
   "execution_count": null,
   "id": "3facc934",
   "metadata": {},
   "outputs": [],
   "source": [
    "plt.figure(figsize=(2,1))\n",
    "res.plot(x = test_param,y = ouput1)\n",
    "plt.xlabel(test_param)\n",
    "plt.xticks(res[test_param])\n",
    "plt.ylabel(ouput1)\n",
    "plt.title(bench_mark)\n",
    "plt.show()"
   ]
  },
  {
   "cell_type": "code",
   "execution_count": null,
   "id": "c77d26e2",
   "metadata": {},
   "outputs": [],
   "source": [
    "test_param ='L1-I SIZE'\n",
    "cols = ['Test Bench Mark',test_param,ouput1]\n",
    "res = df[df['Test Parameter'] == test_param][cols]\n",
    "res = res.reset_index(drop=True)\n",
    "res"
   ]
  },
  {
   "cell_type": "code",
   "execution_count": null,
   "id": "2ff2772d",
   "metadata": {},
   "outputs": [],
   "source": [
    "benchmarks = df['Test Bench Mark'].unique()\n",
    "fig, ax = plt.subplots(figsize=(8, 6))\n",
    "for benchmark in benchmarks:\n",
    "    data = res[res['Test Bench Mark'] == benchmark]\n",
    "    ax.plot(data[test_param], data[ouput1], label=benchmark)\n",
    "ax.set_xlabel(test_param)\n",
    "ax.set_ylabel(ouput1)\n",
    "ax.set_xticks(res[test_param])\n",
    "ax.set_title('{} vs {}'.format(ouput1,test_param))\n",
    "ax.legend()\n",
    "plt.show()"
   ]
  },
  {
   "cell_type": "code",
   "execution_count": null,
   "id": "0b4552b1",
   "metadata": {},
   "outputs": [],
   "source": [
    "bench_mark = '401.bzip'\n",
    "test_param = 'L1-I Associativity'\n",
    "ouput1 = 'CPI'\n",
    "cols = ['Test Parameter',test_param,ouput1]\n",
    "\n",
    "res = df[(df['Test Parameter'] == test_param) & (df['Test Bench Mark'] == bench_mark)][cols]\n",
    "res = res.reset_index(drop=True)\n",
    "res"
   ]
  },
  {
   "cell_type": "code",
   "execution_count": null,
   "id": "77408653",
   "metadata": {},
   "outputs": [],
   "source": [
    "plt.figure(figsize=(2,1))\n",
    "res.plot(x = test_param,y = ouput1)\n",
    "plt.xlabel(test_param)\n",
    "plt.xticks(res[test_param])\n",
    "plt.ylabel(ouput1)\n",
    "plt.title(bench_mark)\n",
    "plt.show()"
   ]
  },
  {
   "cell_type": "code",
   "execution_count": null,
   "id": "8b523aeb",
   "metadata": {},
   "outputs": [],
   "source": [
    "bench_mark = '429.mcf'\n",
    "test_param = 'L1-I Associativity'\n",
    "ouput1 = 'CPI'\n",
    "cols = ['Test Parameter',test_param,ouput1]\n",
    "\n",
    "res = df[(df['Test Parameter'] == test_param) & (df['Test Bench Mark'] == bench_mark)][cols]\n",
    "res = res.reset_index(drop=True)\n",
    "res"
   ]
  },
  {
   "cell_type": "code",
   "execution_count": null,
   "id": "12f90bac",
   "metadata": {},
   "outputs": [],
   "source": [
    "plt.figure(figsize=(2,1))\n",
    "res.plot(x = test_param,y = ouput1)\n",
    "plt.xlabel(test_param)\n",
    "plt.xticks(res[test_param])\n",
    "plt.ylabel(ouput1)\n",
    "plt.title(bench_mark)\n",
    "plt.show()"
   ]
  },
  {
   "cell_type": "code",
   "execution_count": null,
   "id": "ac759f00",
   "metadata": {},
   "outputs": [],
   "source": [
    "bench_mark = '458.sjeng'\n",
    "test_param = 'L1-I Associativity'\n",
    "ouput1 = 'CPI'\n",
    "cols = ['Test Parameter',test_param,ouput1]\n",
    "\n",
    "res = df[(df['Test Parameter'] == test_param) & (df['Test Bench Mark'] == bench_mark)][cols]\n",
    "res = res.reset_index(drop=True)\n",
    "res"
   ]
  },
  {
   "cell_type": "code",
   "execution_count": null,
   "id": "d10a9e85",
   "metadata": {},
   "outputs": [],
   "source": [
    "plt.figure(figsize=(2,1))\n",
    "res.plot(x = test_param,y = ouput1)\n",
    "plt.xlabel(test_param)\n",
    "plt.xticks(res[test_param])\n",
    "plt.ylabel(ouput1)\n",
    "plt.title(bench_mark)\n",
    "plt.show()"
   ]
  },
  {
   "cell_type": "code",
   "execution_count": null,
   "id": "9090a226",
   "metadata": {},
   "outputs": [],
   "source": [
    "test_param = 'L1-I Associativity'\n",
    "cols = ['Test Bench Mark',test_param,ouput1]\n",
    "res = df[df['Test Parameter'] == test_param][cols]\n",
    "res = res.reset_index(drop=True)\n",
    "res"
   ]
  },
  {
   "cell_type": "code",
   "execution_count": null,
   "id": "d0d16d40",
   "metadata": {},
   "outputs": [],
   "source": [
    "benchmarks = df['Test Bench Mark'].unique()\n",
    "fig, ax = plt.subplots(figsize=(8, 6))\n",
    "for benchmark in benchmarks:\n",
    "    data = res[res['Test Bench Mark'] == benchmark]\n",
    "    ax.plot(data[test_param], data[ouput1], label=benchmark)\n",
    "ax.set_xlabel(test_param)\n",
    "ax.set_ylabel(ouput1)\n",
    "ax.set_xticks(res[test_param])\n",
    "ax.set_title('{} vs {}'.format(ouput1,test_param))\n",
    "ax.legend()\n",
    "plt.show()"
   ]
  },
  {
   "cell_type": "code",
   "execution_count": null,
   "id": "660f1cad",
   "metadata": {},
   "outputs": [],
   "source": []
  },
  {
   "cell_type": "code",
   "execution_count": null,
   "id": "11bc036d",
   "metadata": {},
   "outputs": [],
   "source": []
  },
  {
   "cell_type": "code",
   "execution_count": null,
   "id": "a36e29d3",
   "metadata": {},
   "outputs": [],
   "source": []
  },
  {
   "cell_type": "code",
   "execution_count": null,
   "id": "7462bbec",
   "metadata": {},
   "outputs": [],
   "source": []
  },
  {
   "cell_type": "code",
   "execution_count": null,
   "id": "3d99883c",
   "metadata": {},
   "outputs": [],
   "source": []
  },
  {
   "cell_type": "code",
   "execution_count": null,
   "id": "3f4fa5dc",
   "metadata": {},
   "outputs": [],
   "source": []
  },
  {
   "cell_type": "code",
   "execution_count": null,
   "id": "30e3f284",
   "metadata": {},
   "outputs": [],
   "source": []
  },
  {
   "cell_type": "code",
   "execution_count": null,
   "id": "a5db7f71",
   "metadata": {},
   "outputs": [],
   "source": []
  },
  {
   "cell_type": "markdown",
   "id": "801531a0",
   "metadata": {},
   "source": [
    "# L2 SIZE"
   ]
  },
  {
   "cell_type": "code",
   "execution_count": null,
   "id": "d92c70d1",
   "metadata": {},
   "outputs": [],
   "source": [
    "bench_mark = '401.bzip'\n",
    "test_param = 'L2 SIZE'\n",
    "ouput1 = 'L2 HIT-RATE'\n",
    "cols = ['Test Parameter',test_param,ouput1]\n",
    "\n",
    "res = df[(df['Test Parameter'] == test_param) & (df['Test Bench Mark'] == bench_mark)][cols]\n",
    "res = res.reset_index(drop=True)\n",
    "res"
   ]
  },
  {
   "cell_type": "code",
   "execution_count": null,
   "id": "0e864c95",
   "metadata": {},
   "outputs": [],
   "source": [
    "plt.figure(figsize=(2,1))\n",
    "res.plot(x = test_param,y = ouput1)\n",
    "plt.xlabel(test_param)\n",
    "plt.ylabel(ouput1)\n",
    "plt.xticks(res[test_param])\n",
    "plt.title(bench_mark)\n",
    "plt.show()"
   ]
  },
  {
   "cell_type": "code",
   "execution_count": null,
   "id": "8a8f50e7",
   "metadata": {},
   "outputs": [],
   "source": [
    "bench_mark = '429.mcf'\n",
    "test_param = 'L2 SIZE'\n",
    "ouput1 = 'L2 HIT-RATE'\n",
    "cols = ['Test Parameter',test_param,ouput1]\n",
    "\n",
    "res = df[(df['Test Parameter'] == test_param) & (df['Test Bench Mark'] == bench_mark)][cols]\n",
    "res = res.reset_index(drop=True)\n",
    "res"
   ]
  },
  {
   "cell_type": "code",
   "execution_count": null,
   "id": "5be81b22",
   "metadata": {},
   "outputs": [],
   "source": [
    "plt.figure(figsize=(2,1))\n",
    "res.plot(x = test_param,y = ouput1)\n",
    "plt.xlabel(test_param)\n",
    "plt.ylabel(ouput1)\n",
    "plt.xticks(res[test_param])\n",
    "\n",
    "plt.title(bench_mark)\n",
    "plt.show()"
   ]
  },
  {
   "cell_type": "code",
   "execution_count": null,
   "id": "2c882a53",
   "metadata": {},
   "outputs": [],
   "source": [
    "bench_mark = '458.sjeng'\n",
    "test_param = 'L2 SIZE'\n",
    "ouput1 = 'L2 HIT-RATE'\n",
    "cols = ['Test Parameter',test_param,ouput1]\n",
    "\n",
    "res = df[(df['Test Parameter'] == test_param) & (df['Test Bench Mark'] == bench_mark)][cols]\n",
    "res = res.reset_index(drop=True)\n",
    "res"
   ]
  },
  {
   "cell_type": "code",
   "execution_count": null,
   "id": "7aead9bc",
   "metadata": {},
   "outputs": [],
   "source": [
    "plt.figure(figsize=(2,1))\n",
    "res.plot(x = test_param,y = ouput1)\n",
    "plt.xlabel(test_param)\n",
    "plt.xticks(res[test_param])\n",
    "plt.ylabel(ouput1)\n",
    "plt.title(bench_mark)\n",
    "plt.show()"
   ]
  },
  {
   "cell_type": "code",
   "execution_count": null,
   "id": "b62006e5",
   "metadata": {},
   "outputs": [],
   "source": [
    "cols = ['Test Bench Mark',test_param,ouput1]\n",
    "res = df[df['Test Parameter'] == test_param][cols]\n",
    "res = res.reset_index(drop=True)\n",
    "res"
   ]
  },
  {
   "cell_type": "code",
   "execution_count": null,
   "id": "51e56f45",
   "metadata": {},
   "outputs": [],
   "source": [
    "benchmarks = df['Test Bench Mark'].unique()\n",
    "fig, ax = plt.subplots(figsize=(8, 6))\n",
    "for benchmark in benchmarks:\n",
    "    data = res[res['Test Bench Mark'] == benchmark]\n",
    "    ax.plot(data[test_param], data[ouput1], label=benchmark)\n",
    "ax.set_xlabel(test_param)\n",
    "ax.set_ylabel(ouput1)\n",
    "ax.set_xticks(res[test_param])\n",
    "ax.set_title('{} vs {}'.format(ouput1,test_param))\n",
    "ax.legend()\n",
    "plt.show()"
   ]
  },
  {
   "cell_type": "code",
   "execution_count": null,
   "id": "5b8db96f",
   "metadata": {},
   "outputs": [],
   "source": [
    "bench_mark = '401.bzip'\n",
    "test_param = 'L2 SIZE'\n",
    "ouput1 = 'CPI'\n",
    "cols = ['Test Parameter',test_param,ouput1]\n",
    "\n",
    "res = df[(df['Test Parameter'] == test_param) & (df['Test Bench Mark'] == bench_mark)][cols]\n",
    "res = res.reset_index(drop=True)\n",
    "res"
   ]
  },
  {
   "cell_type": "code",
   "execution_count": null,
   "id": "a1b97af3",
   "metadata": {},
   "outputs": [],
   "source": [
    "plt.figure(figsize=(2,1))\n",
    "res.plot(x = test_param,y = ouput1)\n",
    "plt.xlabel(test_param)\n",
    "plt.xticks(res[test_param])\n",
    "\n",
    "plt.ylabel(ouput1)\n",
    "plt.title(bench_mark)\n",
    "plt.show()"
   ]
  },
  {
   "cell_type": "code",
   "execution_count": null,
   "id": "bf977316",
   "metadata": {},
   "outputs": [],
   "source": [
    "bench_mark = '429.mcf'\n",
    "test_param = 'L2 SIZE'\n",
    "ouput1 = 'CPI'\n",
    "cols = ['Test Parameter',test_param,ouput1]\n",
    "\n",
    "res = df[(df['Test Parameter'] == test_param) & (df['Test Bench Mark'] == bench_mark)][cols]\n",
    "res = res.reset_index(drop=True)\n",
    "res"
   ]
  },
  {
   "cell_type": "code",
   "execution_count": null,
   "id": "31eba45e",
   "metadata": {},
   "outputs": [],
   "source": [
    "plt.figure(figsize=(2,1))\n",
    "res.plot(x = test_param,y = ouput1)\n",
    "plt.xlabel(test_param)\n",
    "plt.xticks(res[test_param])\n",
    "\n",
    "plt.ylabel(ouput1)\n",
    "plt.title(bench_mark)\n",
    "plt.show()"
   ]
  },
  {
   "cell_type": "code",
   "execution_count": null,
   "id": "5bf2dd82",
   "metadata": {},
   "outputs": [],
   "source": [
    "bench_mark = '458.sjeng'\n",
    "test_param = 'L2 SIZE'\n",
    "ouput1 = 'CPI'\n",
    "cols = ['Test Parameter',test_param,ouput1]\n",
    "\n",
    "res = df[(df['Test Parameter'] == test_param) & (df['Test Bench Mark'] == bench_mark)][cols]\n",
    "res = res.reset_index(drop=True)\n",
    "res"
   ]
  },
  {
   "cell_type": "code",
   "execution_count": null,
   "id": "71c788e2",
   "metadata": {},
   "outputs": [],
   "source": [
    "plt.figure(figsize=(2,1))\n",
    "res.plot(x = test_param,y = ouput1)\n",
    "plt.xlabel(test_param)\n",
    "plt.xticks(res[test_param])\n",
    "\n",
    "plt.ylabel(ouput1)\n",
    "plt.title(bench_mark)\n",
    "plt.show()"
   ]
  },
  {
   "cell_type": "code",
   "execution_count": null,
   "id": "ba27430d",
   "metadata": {
    "scrolled": true
   },
   "outputs": [],
   "source": [
    "cols = ['Test Bench Mark',test_param,ouput1]\n",
    "res = df[df['Test Parameter'] == test_param][cols]\n",
    "res = res.reset_index(drop=True)\n",
    "res"
   ]
  },
  {
   "cell_type": "code",
   "execution_count": null,
   "id": "56d64b73",
   "metadata": {},
   "outputs": [],
   "source": [
    "benchmarks = df['Test Bench Mark'].unique()\n",
    "fig, ax = plt.subplots(figsize=(8, 6))\n",
    "for benchmark in benchmarks:\n",
    "    data = res[res['Test Bench Mark'] == benchmark]\n",
    "    ax.plot(data[test_param], data[ouput1], label=benchmark)\n",
    "ax.set_xlabel(test_param)\n",
    "ax.set_ylabel(ouput1)\n",
    "ax.set_xticks(res[test_param])\n",
    "ax.set_title('{} vs {}'.format(ouput1,test_param))\n",
    "ax.legend()\n",
    "plt.show()"
   ]
  },
  {
   "cell_type": "code",
   "execution_count": null,
   "id": "a150c73a",
   "metadata": {},
   "outputs": [],
   "source": []
  },
  {
   "cell_type": "code",
   "execution_count": null,
   "id": "471e06fb",
   "metadata": {},
   "outputs": [],
   "source": []
  },
  {
   "cell_type": "code",
   "execution_count": null,
   "id": "edb2c04f",
   "metadata": {},
   "outputs": [],
   "source": []
  },
  {
   "cell_type": "code",
   "execution_count": null,
   "id": "ad142ac0",
   "metadata": {},
   "outputs": [],
   "source": []
  },
  {
   "cell_type": "code",
   "execution_count": null,
   "id": "2ae996a3",
   "metadata": {},
   "outputs": [],
   "source": []
  },
  {
   "cell_type": "code",
   "execution_count": null,
   "id": "cd415b09",
   "metadata": {},
   "outputs": [],
   "source": []
  },
  {
   "cell_type": "code",
   "execution_count": null,
   "id": "ec5de164",
   "metadata": {},
   "outputs": [],
   "source": []
  },
  {
   "cell_type": "markdown",
   "id": "49770cf7",
   "metadata": {},
   "source": [
    "# 'L2 Associativity', L2 HIT-RATE"
   ]
  },
  {
   "cell_type": "code",
   "execution_count": null,
   "id": "2ab29e70",
   "metadata": {},
   "outputs": [],
   "source": [
    "bench_mark = '401.bzip'\n",
    "test_param = 'L2 Associativity'\n",
    "ouput1 = 'L2 HIT-RATE'\n",
    "cols = ['Test Parameter',test_param,ouput1]\n",
    "\n",
    "res = df[(df['Test Parameter'] == test_param) & (df['Test Bench Mark'] == bench_mark)][cols]\n",
    "res = res.reset_index(drop=True)\n",
    "res"
   ]
  },
  {
   "cell_type": "code",
   "execution_count": null,
   "id": "cdc21f0e",
   "metadata": {},
   "outputs": [],
   "source": [
    "plt.figure(figsize=(2,1))\n",
    "res.plot(x = test_param,y = ouput1)\n",
    "plt.xlabel(test_param)\n",
    "plt.xticks(res[test_param])\n",
    "\n",
    "plt.ylabel(ouput1)\n",
    "plt.title(bench_mark)\n",
    "plt.show()"
   ]
  },
  {
   "cell_type": "code",
   "execution_count": null,
   "id": "7e10caf3",
   "metadata": {},
   "outputs": [],
   "source": [
    "bench_mark = '429.mcf'\n",
    "test_param = 'L2 Associativity'\n",
    "ouput1 = 'L2 HIT-RATE'\n",
    "cols = ['Test Parameter',test_param,ouput1]\n",
    "\n",
    "res = df[(df['Test Parameter'] == test_param) & (df['Test Bench Mark'] == bench_mark)][cols]\n",
    "res = res.reset_index(drop=True)\n",
    "res"
   ]
  },
  {
   "cell_type": "code",
   "execution_count": null,
   "id": "fc5a7f3f",
   "metadata": {},
   "outputs": [],
   "source": [
    "plt.figure(figsize=(2,1))\n",
    "res.plot(x = test_param,y = ouput1)\n",
    "plt.xlabel(test_param)\n",
    "plt.xticks(res[test_param])\n",
    "\n",
    "plt.ylabel(ouput1)\n",
    "plt.title(bench_mark)\n",
    "plt.show()"
   ]
  },
  {
   "cell_type": "code",
   "execution_count": null,
   "id": "c818fd17",
   "metadata": {},
   "outputs": [],
   "source": [
    "bench_mark = '458.sjeng'\n",
    "test_param = 'L2 Associativity'\n",
    "ouput1 = 'L2 HIT-RATE'\n",
    "cols = ['Test Parameter',test_param,ouput1]\n",
    "\n",
    "res = df[(df['Test Parameter'] == test_param) & (df['Test Bench Mark'] == bench_mark)][cols]\n",
    "res = res.reset_index(drop=True)\n",
    "res"
   ]
  },
  {
   "cell_type": "code",
   "execution_count": null,
   "id": "d07037b3",
   "metadata": {},
   "outputs": [],
   "source": [
    "plt.figure(figsize=(2,1))\n",
    "res.plot(x = test_param,y = ouput1)\n",
    "plt.xlabel(test_param)\n",
    "plt.xticks(res[test_param])\n",
    "\n",
    "plt.ylabel(ouput1)\n",
    "plt.title(bench_mark)\n",
    "plt.show()"
   ]
  },
  {
   "cell_type": "code",
   "execution_count": null,
   "id": "b0edef04",
   "metadata": {},
   "outputs": [],
   "source": [
    "cols = ['Test Bench Mark',test_param,ouput1]\n",
    "res = df[df['Test Parameter'] == test_param][cols]\n",
    "res = res.reset_index(drop=True)\n",
    "res"
   ]
  },
  {
   "cell_type": "code",
   "execution_count": null,
   "id": "e5498de5",
   "metadata": {},
   "outputs": [],
   "source": [
    "benchmarks = df['Test Bench Mark'].unique()\n",
    "fig, ax = plt.subplots(figsize=(8, 6))\n",
    "for benchmark in benchmarks:\n",
    "    data = res[res['Test Bench Mark'] == benchmark]\n",
    "    ax.plot(data[test_param], data[ouput1], label=benchmark)\n",
    "ax.set_xlabel(test_param)\n",
    "ax.set_ylabel(ouput1)\n",
    "ax.set_xticks(res[test_param])\n",
    "ax.set_title('{} vs {}'.format(ouput1,test_param))\n",
    "ax.legend()\n",
    "plt.show()"
   ]
  },
  {
   "cell_type": "code",
   "execution_count": null,
   "id": "28347fbd",
   "metadata": {},
   "outputs": [],
   "source": []
  },
  {
   "cell_type": "code",
   "execution_count": null,
   "id": "26745c21",
   "metadata": {},
   "outputs": [],
   "source": []
  },
  {
   "cell_type": "markdown",
   "id": "cacd7aba",
   "metadata": {},
   "source": [
    "# 'L2 Associativity', CPI"
   ]
  },
  {
   "cell_type": "code",
   "execution_count": null,
   "id": "1229f921",
   "metadata": {},
   "outputs": [],
   "source": [
    "bench_mark = '401.bzip'\n",
    "test_param = 'L2 Associativity'\n",
    "ouput1 = 'CPI'\n",
    "cols = ['Test Parameter',test_param,ouput1]\n",
    "\n",
    "res = df[(df['Test Parameter'] == test_param) & (df['Test Bench Mark'] == bench_mark)][cols]\n",
    "res = res.reset_index(drop=True)\n",
    "res"
   ]
  },
  {
   "cell_type": "code",
   "execution_count": null,
   "id": "1fc87996",
   "metadata": {},
   "outputs": [],
   "source": [
    "plt.figure(figsize=(2,1))\n",
    "res.plot(x = test_param,y = ouput1)\n",
    "plt.xlabel(test_param)\n",
    "plt.ylabel(ouput1)\n",
    "plt.xticks(res[test_param])\n",
    "\n",
    "plt.title(bench_mark)\n",
    "plt.show()"
   ]
  },
  {
   "cell_type": "code",
   "execution_count": null,
   "id": "d765b0b3",
   "metadata": {},
   "outputs": [],
   "source": [
    "bench_mark = '429.mcf'\n",
    "test_param = 'L2 Associativity'\n",
    "ouput1 = 'CPI'\n",
    "cols = ['Test Parameter',test_param,ouput1]\n",
    "\n",
    "res = df[(df['Test Parameter'] == test_param) & (df['Test Bench Mark'] == bench_mark)][cols]\n",
    "res = res.reset_index(drop=True)\n",
    "res"
   ]
  },
  {
   "cell_type": "code",
   "execution_count": null,
   "id": "99adb4e6",
   "metadata": {},
   "outputs": [],
   "source": [
    "plt.figure(figsize=(2,1))\n",
    "res.plot(x = test_param,y = ouput1)\n",
    "plt.xlabel(test_param)\n",
    "plt.ylabel(ouput1)\n",
    "plt.xticks(res[test_param])\n",
    "\n",
    "plt.title(bench_mark)\n",
    "plt.show()"
   ]
  },
  {
   "cell_type": "code",
   "execution_count": null,
   "id": "17fcebff",
   "metadata": {},
   "outputs": [],
   "source": [
    "bench_mark = '458.sjeng'\n",
    "test_param = 'L2 Associativity'\n",
    "ouput1 = 'CPI'\n",
    "cols = ['Test Parameter',test_param,ouput1]\n",
    "\n",
    "res = df[(df['Test Parameter'] == test_param) & (df['Test Bench Mark'] == bench_mark)][cols]\n",
    "res = res.reset_index(drop=True)\n",
    "res"
   ]
  },
  {
   "cell_type": "code",
   "execution_count": null,
   "id": "10d5b3f7",
   "metadata": {},
   "outputs": [],
   "source": [
    "plt.figure(figsize=(2,1))\n",
    "res.plot(x = test_param,y = ouput1)\n",
    "plt.xlabel(test_param)\n",
    "plt.xticks(res[test_param])\n",
    "\n",
    "plt.ylabel(ouput1)\n",
    "plt.title(bench_mark)\n",
    "plt.show()"
   ]
  },
  {
   "cell_type": "code",
   "execution_count": null,
   "id": "e763084b",
   "metadata": {
    "scrolled": true
   },
   "outputs": [],
   "source": [
    "cols = ['Test Bench Mark',test_param,ouput1]\n",
    "res = df[df['Test Parameter'] == test_param][cols]\n",
    "res = res.reset_index(drop=True)\n",
    "res"
   ]
  },
  {
   "cell_type": "code",
   "execution_count": null,
   "id": "09fb59bd",
   "metadata": {},
   "outputs": [],
   "source": [
    "benchmarks = df['Test Bench Mark'].unique()\n",
    "fig, ax = plt.subplots(figsize=(8, 6))\n",
    "for benchmark in benchmarks:\n",
    "    data = res[res['Test Bench Mark'] == benchmark]\n",
    "    ax.plot(data[test_param], data[ouput1], label=benchmark)\n",
    "ax.set_xlabel(test_param)\n",
    "ax.set_ylabel(ouput1)\n",
    "ax.set_xticks(res[test_param])\n",
    "ax.set_title('{} vs {}'.format(ouput1,test_param))\n",
    "ax.legend()\n",
    "plt.show()"
   ]
  },
  {
   "cell_type": "code",
   "execution_count": null,
   "id": "3c866510",
   "metadata": {},
   "outputs": [],
   "source": []
  },
  {
   "cell_type": "code",
   "execution_count": null,
   "id": "5c540472",
   "metadata": {},
   "outputs": [],
   "source": []
  },
  {
   "cell_type": "code",
   "execution_count": null,
   "id": "5a885c07",
   "metadata": {},
   "outputs": [],
   "source": []
  },
  {
   "cell_type": "markdown",
   "id": "f429cca9",
   "metadata": {},
   "source": [
    "# 'BLOCK SIZE', L1-I HIT-RATE"
   ]
  },
  {
   "cell_type": "code",
   "execution_count": null,
   "id": "21a78f5c",
   "metadata": {},
   "outputs": [],
   "source": [
    "bench_mark = '401.bzip'\n",
    "test_param = 'BLOCK SIZE'\n",
    "ouput1 = 'L1-I HIT-RATE'\n",
    "cols = ['Test Parameter',test_param,ouput1]\n",
    "\n",
    "res = df[(df['Test Parameter'] == test_param) & (df['Test Bench Mark'] == bench_mark)][cols]\n",
    "res = res.reset_index(drop=True)\n",
    "res"
   ]
  },
  {
   "cell_type": "code",
   "execution_count": null,
   "id": "0ea2c9e0",
   "metadata": {},
   "outputs": [],
   "source": [
    "plt.figure(figsize=(2,1))\n",
    "res.plot(x = test_param,y = ouput1)\n",
    "plt.xlabel(test_param)\n",
    "plt.xticks(res[test_param])\n",
    "\n",
    "plt.ylabel(ouput1)\n",
    "plt.title(bench_mark)\n",
    "plt.show()"
   ]
  },
  {
   "cell_type": "code",
   "execution_count": null,
   "id": "7023e3c4",
   "metadata": {},
   "outputs": [],
   "source": [
    "bench_mark = '429.mcf'\n",
    "test_param = 'BLOCK SIZE'\n",
    "ouput1 = 'L1-I HIT-RATE'\n",
    "cols = ['Test Parameter',test_param,ouput1]\n",
    "\n",
    "res = df[(df['Test Parameter'] == test_param) & (df['Test Bench Mark'] == bench_mark)][cols]\n",
    "res = res.reset_index(drop=True)\n",
    "res"
   ]
  },
  {
   "cell_type": "code",
   "execution_count": null,
   "id": "18b876da",
   "metadata": {},
   "outputs": [],
   "source": [
    "plt.figure(figsize=(2,1))\n",
    "res.plot(x = test_param,y = ouput1)\n",
    "plt.xlabel(test_param)\n",
    "plt.ylabel(ouput1)\n",
    "plt.xticks(res[test_param])\n",
    "\n",
    "plt.title(bench_mark)\n",
    "plt.show()"
   ]
  },
  {
   "cell_type": "code",
   "execution_count": null,
   "id": "17a5cc1a",
   "metadata": {},
   "outputs": [],
   "source": [
    "bench_mark = '458.sjeng'\n",
    "test_param = 'BLOCK SIZE'\n",
    "ouput1 = 'L1-I HIT-RATE'\n",
    "cols = ['Test Parameter',test_param,ouput1]\n",
    "\n",
    "res = df[(df['Test Parameter'] == test_param) & (df['Test Bench Mark'] == bench_mark)][cols]\n",
    "res = res.reset_index(drop=True)\n",
    "res"
   ]
  },
  {
   "cell_type": "code",
   "execution_count": null,
   "id": "6162513b",
   "metadata": {},
   "outputs": [],
   "source": [
    "plt.figure(figsize=(2,1))\n",
    "res.plot(x = test_param,y = ouput1)\n",
    "plt.xlabel(test_param)\n",
    "plt.ylabel(ouput1)\n",
    "plt.xticks(res[test_param])\n",
    "\n",
    "plt.title(bench_mark)\n",
    "plt.show()"
   ]
  },
  {
   "cell_type": "code",
   "execution_count": null,
   "id": "3d59b8bc",
   "metadata": {
    "scrolled": true
   },
   "outputs": [],
   "source": [
    "cols = ['Test Bench Mark',test_param,ouput1]\n",
    "res = df[df['Test Parameter'] == test_param][cols]\n",
    "res = res.reset_index(drop=True)\n",
    "res"
   ]
  },
  {
   "cell_type": "code",
   "execution_count": null,
   "id": "80970c5c",
   "metadata": {},
   "outputs": [],
   "source": [
    "benchmarks = df['Test Bench Mark'].unique()\n",
    "fig, ax = plt.subplots(figsize=(8, 6))\n",
    "for benchmark in benchmarks:\n",
    "    data = res[res['Test Bench Mark'] == benchmark]\n",
    "    ax.plot(data[test_param], data[ouput1], label=benchmark)\n",
    "ax.set_xlabel(test_param)\n",
    "ax.set_ylabel(ouput1)\n",
    "ax.set_xticks(res[test_param])\n",
    "ax.set_title('{} vs {}'.format(ouput1,test_param))\n",
    "ax.legend()\n",
    "plt.show()"
   ]
  },
  {
   "cell_type": "code",
   "execution_count": null,
   "id": "483659f7",
   "metadata": {},
   "outputs": [],
   "source": []
  },
  {
   "cell_type": "code",
   "execution_count": null,
   "id": "b554ddcd",
   "metadata": {},
   "outputs": [],
   "source": []
  },
  {
   "cell_type": "code",
   "execution_count": null,
   "id": "32d21b49",
   "metadata": {},
   "outputs": [],
   "source": []
  },
  {
   "cell_type": "code",
   "execution_count": null,
   "id": "38971c31",
   "metadata": {},
   "outputs": [],
   "source": []
  },
  {
   "cell_type": "markdown",
   "id": "62c712c2",
   "metadata": {},
   "source": [
    "# 'BLOCK SIZE', L2 HIT-RATE"
   ]
  },
  {
   "cell_type": "code",
   "execution_count": null,
   "id": "ece00042",
   "metadata": {},
   "outputs": [],
   "source": [
    "bench_mark = '401.bzip'\n",
    "test_param = 'BLOCK SIZE'\n",
    "ouput1 = 'L2 HIT-RATE'\n",
    "cols = ['Test Parameter',test_param,ouput1]\n",
    "\n",
    "res = df[(df['Test Parameter'] == test_param) & (df['Test Bench Mark'] == bench_mark)][cols]\n",
    "res = res.reset_index(drop=True)\n",
    "res"
   ]
  },
  {
   "cell_type": "code",
   "execution_count": null,
   "id": "44b56655",
   "metadata": {},
   "outputs": [],
   "source": [
    "plt.figure(figsize=(2,1))\n",
    "res.plot(x = test_param,y = ouput1)\n",
    "plt.xlabel(test_param)\n",
    "plt.xticks(res[test_param])\n",
    "\n",
    "plt.ylabel(ouput1)\n",
    "plt.title(bench_mark)\n",
    "plt.show()"
   ]
  },
  {
   "cell_type": "code",
   "execution_count": null,
   "id": "91d304f8",
   "metadata": {},
   "outputs": [],
   "source": [
    "bench_mark = '429.mcf'\n",
    "test_param = 'BLOCK SIZE'\n",
    "ouput1 = 'L2 HIT-RATE'\n",
    "cols = ['Test Parameter',test_param,ouput1]\n",
    "\n",
    "res = df[(df['Test Parameter'] == test_param) & (df['Test Bench Mark'] == bench_mark)][cols]\n",
    "res = res.reset_index(drop=True)\n",
    "res"
   ]
  },
  {
   "cell_type": "code",
   "execution_count": null,
   "id": "1b33f934",
   "metadata": {},
   "outputs": [],
   "source": [
    "plt.figure(figsize=(2,1))\n",
    "res.plot(x = test_param,y = ouput1)\n",
    "plt.xlabel(test_param)\n",
    "plt.xticks(res[test_param])\n",
    "\n",
    "plt.ylabel(ouput1)\n",
    "plt.title(bench_mark)\n",
    "plt.show()"
   ]
  },
  {
   "cell_type": "code",
   "execution_count": null,
   "id": "aff4f4c5",
   "metadata": {},
   "outputs": [],
   "source": [
    "bench_mark = '458.sjeng'\n",
    "test_param = 'BLOCK SIZE'\n",
    "ouput1 = 'L2 HIT-RATE'\n",
    "cols = ['Test Parameter',test_param,ouput1]\n",
    "\n",
    "res = df[(df['Test Parameter'] == test_param) & (df['Test Bench Mark'] == bench_mark)][cols]\n",
    "res = res.reset_index(drop=True)\n",
    "res"
   ]
  },
  {
   "cell_type": "code",
   "execution_count": null,
   "id": "d6868227",
   "metadata": {
    "scrolled": true
   },
   "outputs": [],
   "source": [
    "plt.figure(figsize=(2,1))\n",
    "res.plot(x = test_param,y = ouput1)\n",
    "plt.xlabel(test_param)\n",
    "plt.xticks(res[test_param])\n",
    "\n",
    "plt.ylabel(ouput1)\n",
    "plt.title(bench_mark)\n",
    "plt.show()"
   ]
  },
  {
   "cell_type": "code",
   "execution_count": null,
   "id": "99e0e705",
   "metadata": {
    "scrolled": true
   },
   "outputs": [],
   "source": [
    "cols = ['Test Bench Mark',test_param,ouput1]\n",
    "res = df[df['Test Parameter'] == test_param][cols]\n",
    "res = res.reset_index(drop=True)\n",
    "res"
   ]
  },
  {
   "cell_type": "code",
   "execution_count": null,
   "id": "cce353f0",
   "metadata": {},
   "outputs": [],
   "source": [
    "benchmarks = df['Test Bench Mark'].unique()\n",
    "fig, ax = plt.subplots(figsize=(8, 6))\n",
    "for benchmark in benchmarks:\n",
    "    data = res[res['Test Bench Mark'] == benchmark]\n",
    "    ax.plot(data[test_param], data[ouput1], label=benchmark)\n",
    "ax.set_xlabel(test_param)\n",
    "ax.set_ylabel(ouput1)\n",
    "ax.set_xticks(res[test_param])\n",
    "ax.set_title('{} vs {}'.format(ouput1,test_param))\n",
    "ax.legend()\n",
    "plt.show()"
   ]
  },
  {
   "cell_type": "code",
   "execution_count": null,
   "id": "d4ad43ae",
   "metadata": {},
   "outputs": [],
   "source": []
  },
  {
   "cell_type": "code",
   "execution_count": null,
   "id": "22b95200",
   "metadata": {},
   "outputs": [],
   "source": []
  },
  {
   "cell_type": "markdown",
   "id": "93d26ec9",
   "metadata": {},
   "source": [
    "# 'BLOCK SIZE', L1-D HIT-RATE"
   ]
  },
  {
   "cell_type": "code",
   "execution_count": null,
   "id": "9e34708d",
   "metadata": {},
   "outputs": [],
   "source": [
    "bench_mark = '401.bzip'\n",
    "test_param = 'BLOCK SIZE'\n",
    "ouput1 = 'L1-D HIT-RATE'\n",
    "cols = ['Test Parameter',test_param,ouput1]\n",
    "\n",
    "res = df[(df['Test Parameter'] == test_param) & (df['Test Bench Mark'] == bench_mark)][cols]\n",
    "res = res.reset_index(drop=True)\n",
    "res"
   ]
  },
  {
   "cell_type": "code",
   "execution_count": null,
   "id": "b465e03d",
   "metadata": {},
   "outputs": [],
   "source": [
    "plt.figure(figsize=(2,1))\n",
    "res.plot(x = test_param,y = ouput1)\n",
    "plt.xlabel(test_param)\n",
    "plt.xticks(res[test_param])\n",
    "\n",
    "plt.ylabel(ouput1)\n",
    "plt.title(bench_mark)\n",
    "plt.show()"
   ]
  },
  {
   "cell_type": "code",
   "execution_count": null,
   "id": "468c4506",
   "metadata": {},
   "outputs": [],
   "source": [
    "bench_mark = '429.mcf'\n",
    "test_param = 'BLOCK SIZE'\n",
    "ouput1 = 'L1-D HIT-RATE'\n",
    "cols = ['Test Parameter',test_param,ouput1]\n",
    "\n",
    "res = df[(df['Test Parameter'] == test_param) & (df['Test Bench Mark'] == bench_mark)][cols]\n",
    "res = res.reset_index(drop=True)\n",
    "res"
   ]
  },
  {
   "cell_type": "code",
   "execution_count": null,
   "id": "22934f72",
   "metadata": {},
   "outputs": [],
   "source": [
    "plt.figure(figsize=(2,1))\n",
    "res.plot(x = test_param,y = ouput1)\n",
    "plt.xlabel(test_param)\n",
    "plt.xticks(res[test_param])\n",
    "\n",
    "plt.ylabel(ouput1)\n",
    "plt.title(bench_mark)\n",
    "plt.show()"
   ]
  },
  {
   "cell_type": "code",
   "execution_count": null,
   "id": "8f5464c2",
   "metadata": {},
   "outputs": [],
   "source": [
    "bench_mark = '458.sjeng'\n",
    "test_param = 'BLOCK SIZE'\n",
    "ouput1 = 'L1-D HIT-RATE'\n",
    "cols = ['Test Parameter',test_param,ouput1]\n",
    "\n",
    "res = df[(df['Test Parameter'] == test_param) & (df['Test Bench Mark'] == bench_mark)][cols]\n",
    "res = res.reset_index(drop=True)\n",
    "res"
   ]
  },
  {
   "cell_type": "code",
   "execution_count": null,
   "id": "6ddd6ac5",
   "metadata": {
    "scrolled": true
   },
   "outputs": [],
   "source": [
    "plt.figure(figsize=(2,1))\n",
    "res.plot(x = test_param,y = ouput1)\n",
    "plt.xlabel(test_param)\n",
    "plt.xticks(res[test_param])\n",
    "\n",
    "plt.ylabel(ouput1)\n",
    "plt.title(bench_mark)\n",
    "plt.show()"
   ]
  },
  {
   "cell_type": "code",
   "execution_count": null,
   "id": "6d392994",
   "metadata": {
    "scrolled": true
   },
   "outputs": [],
   "source": [
    "cols = ['Test Bench Mark',test_param,ouput1]\n",
    "res = df[df['Test Parameter'] == test_param][cols]\n",
    "res = res.reset_index(drop=True)\n",
    "res"
   ]
  },
  {
   "cell_type": "code",
   "execution_count": null,
   "id": "3043f1c4",
   "metadata": {},
   "outputs": [],
   "source": [
    "benchmarks = df['Test Bench Mark'].unique()\n",
    "fig, ax = plt.subplots(figsize=(8, 6))\n",
    "for benchmark in benchmarks:\n",
    "    data = res[res['Test Bench Mark'] == benchmark]\n",
    "    ax.plot(data[test_param], data[ouput1], label=benchmark)\n",
    "ax.set_xlabel(test_param)\n",
    "ax.set_ylabel(ouput1)\n",
    "ax.set_xticks(res[test_param])\n",
    "ax.set_title('{} vs {}'.format(ouput1,test_param))\n",
    "ax.legend()\n",
    "plt.show()"
   ]
  },
  {
   "cell_type": "code",
   "execution_count": null,
   "id": "153e3b03",
   "metadata": {},
   "outputs": [],
   "source": []
  },
  {
   "cell_type": "code",
   "execution_count": null,
   "id": "dc313c4e",
   "metadata": {},
   "outputs": [],
   "source": []
  },
  {
   "cell_type": "code",
   "execution_count": null,
   "id": "65955d57",
   "metadata": {},
   "outputs": [],
   "source": []
  },
  {
   "cell_type": "code",
   "execution_count": null,
   "id": "00defb60",
   "metadata": {},
   "outputs": [],
   "source": []
  },
  {
   "cell_type": "markdown",
   "id": "3386cdb8",
   "metadata": {},
   "source": [
    "# 'BLOCK SIZE', CPI"
   ]
  },
  {
   "cell_type": "code",
   "execution_count": null,
   "id": "5324a142",
   "metadata": {},
   "outputs": [],
   "source": [
    "bench_mark = '401.bzip'\n",
    "test_param = 'BLOCK SIZE'\n",
    "ouput1 = 'CPI'\n",
    "cols = ['Test Parameter',test_param,ouput1]\n",
    "\n",
    "res = df[(df['Test Parameter'] == test_param) & (df['Test Bench Mark'] == bench_mark)][cols]\n",
    "res = res.reset_index(drop=True)\n",
    "res"
   ]
  },
  {
   "cell_type": "code",
   "execution_count": null,
   "id": "aa461ea0",
   "metadata": {},
   "outputs": [],
   "source": [
    "plt.figure(figsize=(2,1))\n",
    "res.plot(x = test_param,y = ouput1)\n",
    "plt.xlabel(test_param)\n",
    "plt.xticks(res[test_param])\n",
    "\n",
    "plt.ylabel(ouput1)\n",
    "plt.title(bench_mark)\n",
    "plt.show()"
   ]
  },
  {
   "cell_type": "code",
   "execution_count": null,
   "id": "511fd2ce",
   "metadata": {},
   "outputs": [],
   "source": [
    "bench_mark = '429.mcf'\n",
    "test_param = 'BLOCK SIZE'\n",
    "ouput1 = 'CPI'\n",
    "cols = ['Test Parameter',test_param,ouput1]\n",
    "\n",
    "res = df[(df['Test Parameter'] == test_param) & (df['Test Bench Mark'] == bench_mark)][cols]\n",
    "res = res.reset_index(drop=True)\n",
    "res"
   ]
  },
  {
   "cell_type": "code",
   "execution_count": null,
   "id": "c5acc8d6",
   "metadata": {},
   "outputs": [],
   "source": [
    "plt.figure(figsize=(2,1))\n",
    "res.plot(x = test_param,y = ouput1)\n",
    "plt.xlabel(test_param)\n",
    "plt.xticks(res[test_param])\n",
    "\n",
    "plt.ylabel(ouput1)\n",
    "plt.title(bench_mark)\n",
    "plt.show()"
   ]
  },
  {
   "cell_type": "code",
   "execution_count": null,
   "id": "ff9c575f",
   "metadata": {},
   "outputs": [],
   "source": [
    "bench_mark = '458.sjeng'\n",
    "test_param = 'BLOCK SIZE'\n",
    "ouput1 = 'CPI'\n",
    "cols = ['Test Parameter',test_param,ouput1]\n",
    "\n",
    "res = df[(df['Test Parameter'] == test_param) & (df['Test Bench Mark'] == bench_mark)][cols]\n",
    "res = res.reset_index(drop=True)\n",
    "res"
   ]
  },
  {
   "cell_type": "code",
   "execution_count": null,
   "id": "f4aff9e4",
   "metadata": {
    "scrolled": true
   },
   "outputs": [],
   "source": [
    "plt.figure(figsize=(2,1))\n",
    "res.plot(x = test_param,y = ouput1)\n",
    "plt.xlabel(test_param)\n",
    "plt.xticks(res[test_param])\n",
    "\n",
    "plt.ylabel(ouput1)\n",
    "plt.title(bench_mark)\n",
    "plt.show()"
   ]
  },
  {
   "cell_type": "code",
   "execution_count": null,
   "id": "2bb2e4b8",
   "metadata": {},
   "outputs": [],
   "source": [
    "cols = ['Test Bench Mark',test_param,ouput1]\n",
    "res = df[df['Test Parameter'] == test_param][cols]\n",
    "res = res.reset_index(drop=True)\n",
    "res"
   ]
  },
  {
   "cell_type": "code",
   "execution_count": null,
   "id": "c1871c61",
   "metadata": {},
   "outputs": [],
   "source": [
    "benchmarks = df['Test Bench Mark'].unique()\n",
    "fig, ax = plt.subplots(figsize=(8, 6))\n",
    "for benchmark in benchmarks:\n",
    "    data = res[res['Test Bench Mark'] == benchmark]\n",
    "    ax.plot(data[test_param], data[ouput1], label=benchmark)\n",
    "ax.set_xlabel(test_param)\n",
    "ax.set_ylabel(ouput1)\n",
    "ax.set_xticks(res[test_param])\n",
    "ax.set_title('{} vs {}'.format(ouput1,test_param))\n",
    "ax.legend()\n",
    "plt.show()"
   ]
  },
  {
   "cell_type": "code",
   "execution_count": null,
   "id": "a6836e87",
   "metadata": {},
   "outputs": [],
   "source": []
  },
  {
   "cell_type": "code",
   "execution_count": null,
   "id": "43324184",
   "metadata": {},
   "outputs": [],
   "source": []
  },
  {
   "cell_type": "code",
   "execution_count": null,
   "id": "b5c4844a",
   "metadata": {},
   "outputs": [],
   "source": []
  }
 ],
 "metadata": {
  "kernelspec": {
   "display_name": "Python 3 (ipykernel)",
   "language": "python",
   "name": "python3"
  },
  "language_info": {
   "codemirror_mode": {
    "name": "ipython",
    "version": 3
   },
   "file_extension": ".py",
   "mimetype": "text/x-python",
   "name": "python",
   "nbconvert_exporter": "python",
   "pygments_lexer": "ipython3",
   "version": "3.10.6"
  }
 },
 "nbformat": 4,
 "nbformat_minor": 5
}
